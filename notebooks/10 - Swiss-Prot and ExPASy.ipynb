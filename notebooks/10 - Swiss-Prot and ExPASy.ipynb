{
 "cells": [
  {
   "cell_type": "markdown",
   "metadata": {},
   "source": [
    "**Source of the materials**: Biopython cookbook (adapted)\n",
    "<font color='red'>Status: Draft</font>"
   ]
  },
  {
   "cell_type": "markdown",
   "metadata": {},
   "source": [
    "Swiss-Prot and ExPASy {#chapter:swiss_prot}\n",
    "=====================\n",
    "\n",
    "Parsing Swiss-Prot files\n",
    "------------------------\n",
    "\n",
    "Swiss-Prot (<http://www.expasy.org/sprot>) is a hand-curated database of\n",
    "protein sequences. Biopython can parse the “plain text” Swiss-Prot file\n",
    "format, which is still used for the UniProt Knowledgebase which combined\n",
    "Swiss-Prot, TrEMBL and PIR-PSD. We do not (yet) support the UniProtKB\n",
    "XML file format.\n",
    "\n",
    "### Parsing Swiss-Prot records\n",
    "\n",
    "In Section \\[sec:SeqIO\\_ExPASy\\_and\\_SwissProt\\], we described how to\n",
    "extract the sequence of a Swiss-Prot record as a `SeqRecord` object.\n",
    "Alternatively, you can store the Swiss-Prot record in a\n",
    "`Bio.SwissProt.Record` object, which in fact stores the complete\n",
    "information contained in the Swiss-Prot record. In this section, we\n",
    "describe how to extract `Bio.SwissProt.Record` objects from a Swiss-Prot\n",
    "file.\n",
    "\n",
    "To parse a Swiss-Prot record, we first get a handle to a Swiss-Prot\n",
    "record. There are several ways to do so, depending on where and how the\n",
    "Swiss-Prot record is stored:\n",
    "\n",
    "-   Open a Swiss-Prot file locally:\n",
    "    `>>> handle = open(\"myswissprotfile.dat\")`\n",
    "\n",
    "-   Open a gzipped Swiss-Prot file:\n",
    "\n"
   ]
  },
  {
   "cell_type": "code",
   "execution_count": 1,
   "metadata": {},
   "outputs": [
    {
     "name": "stdout",
     "output_type": "stream",
     "text": [
      "O23729\n",
      "CHS3_BROFI\n",
      "RecName: Full=Chalcone synthase 3; EC=2.3.1.74; AltName: Full=Naringenin-chalcone synthase 3;\n",
      "Seq('MAPAMEEIRQAQRAEGPAAVLAIGTSTPPNALYQADYPDYYFRITKSEHLTELK...GAE')\n",
      "Length 394\n",
      "['Acyltransferase', 'Flavonoid biosynthesis', 'Transferase']\n"
     ]
    }
   ],
   "source": [
    "from Bio import ExPASy\n",
    "from Bio import SeqIO\n",
    "\n",
    "with ExPASy.get_sprot_raw(\"O23729\") as handle:\n",
    "    seq_record = SeqIO.read(handle, \"swiss\")\n",
    "print(seq_record.id)\n",
    "print(seq_record.name)\n",
    "print(seq_record.description)\n",
    "print(repr(seq_record.seq))\n",
    "print(\"Length %i\" % len(seq_record))\n",
    "print(seq_record.annotations[\"keywords\"])"
   ]
  },
  {
   "cell_type": "code",
   "execution_count": 2,
   "metadata": {},
   "outputs": [],
   "source": [
    "from Bio import SeqIO\n",
    "\n",
    "orchid_dict = SeqIO.to_dict(SeqIO.parse(\"data/ls_orchid.gbk\", \"genbank\"))"
   ]
  },
  {
   "cell_type": "code",
   "execution_count": 3,
   "metadata": {},
   "outputs": [
    {
     "name": "stdout",
     "output_type": "stream",
     "text": [
      "P.supardii 5.8S rRNA gene and ITS1 and ITS2 DNA\n"
     ]
    }
   ],
   "source": [
    "seq_record = orchid_dict[\"Z78475.1\"]\n",
    "print(seq_record.description)"
   ]
  },
  {
   "cell_type": "code",
   "execution_count": 5,
   "metadata": {
    "collapsed": false,
    "jupyter": {
     "outputs_hidden": false
    }
   },
   "outputs": [],
   "source": [
    "## Ucomment if you have a local file\n",
    "#import gzip\n",
    "#handle = gzip.open(\"data/myswissprotfile.dat.gz\")\n"
   ]
  },
  {
   "cell_type": "markdown",
   "metadata": {},
   "source": [
    "\n",
    "-   Open a Swiss-Prot file over the internet:\n",
    "\n",
    "    - [You can find a description of Swiss-Prot here](https://www.ncbi.nlm.nih.gov/pmc/articles/PMC102476/)\n",
    "    - [And an extensive set of sample data here](https://www.expasy.org/)\n",
    "    - [Here's a specific example data list](https://swissmodel.expasy.org/repository?query=blast)\n",
    "    - [Ancestral genome of Lepidosauria](https://omabrowser.org/oma/ancestralgenome/Lepidosauria/info/)\n",
    "      - [Ancient Lizard!](https://en.wikipedia.org/wiki/Lepidosauria)\n",
    "      - [Many Late Cretaceous (approximately 75 mybp) fossil species are assignable to modern families and some Late Jurassic (135 + mybp) taxa are recognizable as varanoids related to living monitor lizards and snakes (Estes, 1983).](https://www.sciencedirect.com/topics/agricultural-and-biological-sciences/lepidosauria)  **NOTE**:Jurrassic Park is not a popular film in Philadelphia right now (Sixers up 3-0, now in a 3-2 series against the Toronto Goldblum's.. er, Velocoraptors... er, Raptors.)\n",
    "      - [Let's get some Jurrassic Lizard Data](https://www.sciencedirect.com/topics/agricultural-and-biological-sciences/lepidosauria)\n",
    "      - [Short Analytical Video](https://www.youtube.com/watch?v=dQw4w9WgXcQ)\n",
    "      - [Varying crosslinking motifs drive the mesoscale mechanics of actin-microtubule composites](https://www.nature.com/articles/s41598-019-49236-4) **Important Jurassic Lizard Sequence**\n",
    "      - BLAST ID: A0A670JRM7\n",
    "      \n",
    "**HUMAN SEQUENCE FOUND** \n",
    "      - [Hemophilia](https://www.uniprot.org/uniprot/?query=keyword%3A%22Hemophilia+%5BKW-0355%5D%22+AND+reviewed%3Ayes&sort=length)\n",
    "\n",
    "\n",
    "\n"
   ]
  },
  {
   "cell_type": "code",
   "execution_count": 10,
   "metadata": {},
   "outputs": [
    {
     "name": "stdout",
     "output_type": "stream",
     "text": [
      "P00451\n",
      "P00741\n",
      "P00740\n",
      "P19540\n",
      "P00451\n",
      "P00741\n",
      "P00740\n",
      "P19540\n",
      "\n",
      "P19540\n"
     ]
    }
   ],
   "source": [
    "## Example\n",
    "import requests\n",
    "requests.__version__\n",
    "# A few basic variables to make our query strings shorter\n",
    "BASE = 'http://www.uniprot.org'\n",
    "KB_ENDPOINT = '/uniprot/'\n",
    "TOOL_ENDPOINT = '/uploadlists/'\n",
    "\n",
    "fullURL = ('http://www.uniprot.org/uniprot/?'\n",
    "                    'query=keyword%3A\"Hemophilia+[KW-0355]\"+AND+reviewed%3Ayes&sort=length&'\n",
    "                    'format=list')\n",
    "\n",
    "\n",
    "r = requests.get(fullURL, stream=True)\n",
    "\n",
    "for line in r.iter_lines(decode_unicode=True):\n",
    "    if line: print(line)\n",
    "    if line[3]: filerunner=line\n",
    "\n",
    "result = requests.get(fullURL)\n",
    "\n",
    "if result.ok:\n",
    "    print(result.text)\n",
    "else:\n",
    "    print('Something went wrong ', result.status_code)\n",
    "\n",
    "result.headers.get('content-type')\n",
    "\n",
    "print(filerunner)"
   ]
  },
  {
   "cell_type": "code",
   "execution_count": 11,
   "metadata": {
    "collapsed": false,
    "jupyter": {
     "outputs_hidden": false
    }
   },
   "outputs": [],
   "source": [
    "#import urllib.request\n",
    "#filerunner = urllib.request.urlopen(\"https://www.uniprot.org/uniprot/P00451.fasta\")\n"
   ]
  },
  {
   "cell_type": "markdown",
   "metadata": {},
   "source": [
    "\n",
    "-   Open a Swiss-Prot file over the internet from the ExPASy database\n",
    "    (see section \\[subsec:subsec:expasy_swissprot]):\n",
    "\n"
   ]
  },
  {
   "cell_type": "code",
   "execution_count": 12,
   "metadata": {
    "collapsed": false,
    "jupyter": {
     "outputs_hidden": false
    }
   },
   "outputs": [
    {
     "name": "stdout",
     "output_type": "stream",
     "text": [
      "P19540\n",
      "FA9_CANLF\n",
      "RecName: Full=Coagulation factor IX; EC=3.4.21.22 {ECO:0000250|UniProtKB:P00740}; AltName: Full=Christmas factor; Contains: RecName: Full=Coagulation factor IXa light chain; Contains: RecName: Full=Coagulation factor IXa heavy chain; Flags: Precursor;\n",
      "Seq('MAEASGLVTVCLLGYLLSAECAVFLDRENATKILSRPKRYNSGKLEEFVRGNLE...KLT')\n",
      "Length 452\n",
      "['Blood coagulation', 'Calcium', 'Cleavage on pair of basic residues', 'Disease variant', 'Disulfide bond', 'EGF-like domain', 'Gamma-carboxyglutamic acid', 'Glycoprotein', 'Hemophilia', 'Hemostasis', 'Hydrolase', 'Hydroxylation', 'Magnesium', 'Metal-binding', 'Phosphoprotein', 'Protease', 'Reference proteome', 'Repeat', 'Secreted', 'Serine protease', 'Signal', 'Sulfation', 'Zymogen']\n"
     ]
    }
   ],
   "source": [
    "from Bio import ExPASy\n",
    "from Bio import SeqIO\n",
    "\n",
    "with ExPASy.get_sprot_raw(filerunner) as handle:\n",
    "    seq_record = SeqIO.read(handle, \"swiss\")\n",
    "print(seq_record.id)\n",
    "print(seq_record.name)\n",
    "print(seq_record.description)\n",
    "print(repr(seq_record.seq))\n",
    "print(\"Length %i\" % len(seq_record))\n",
    "print(seq_record.annotations[\"keywords\"])\n",
    "handle = ExPASy.get_sprot_raw(filerunner)\n"
   ]
  },
  {
   "cell_type": "markdown",
   "metadata": {},
   "source": [
    "\n",
    "The key point is that for the parser, it doesn’t matter how the handle\n",
    "was created, as long as it points to data in the Swiss-Prot format.\n",
    "\n",
    "We can use `Bio.SeqIO` as described in\n",
    "Section \\[sec:SeqIO\\_ExPASy\\_and\\_SwissProt\\] to get file format\n",
    "agnostic `SeqRecord` objects. Alternatively, we can use `Bio.SwissProt`\n",
    "get `Bio.SwissProt.Record` objects, which are a much closer match to the\n",
    "underlying file format.\n",
    "\n",
    "To read one Swiss-Prot record from the handle, we use the function\n",
    "`read()`:\n",
    "\n"
   ]
  },
  {
   "cell_type": "code",
   "execution_count": 13,
   "metadata": {
    "collapsed": false,
    "jupyter": {
     "outputs_hidden": false
    }
   },
   "outputs": [],
   "source": [
    "from Bio import SwissProt\n",
    "record = SwissProt.read(handle)\n"
   ]
  },
  {
   "cell_type": "markdown",
   "metadata": {},
   "source": [
    "\n",
    "This function should be used if the handle points to exactly one\n",
    "Swiss-Prot record. It raises a `ValueError` if no Swiss-Prot record was\n",
    "found, and also if more than one record was found.\n",
    "\n",
    "We can now print out some information about this record:\n",
    "\n"
   ]
  },
  {
   "cell_type": "code",
   "execution_count": 14,
   "metadata": {
    "collapsed": false,
    "jupyter": {
     "outputs_hidden": false
    }
   },
   "outputs": [
    {
     "name": "stdout",
     "output_type": "stream",
     "text": [
      "RecName: Full=Coagulation factor IX; EC=3.4.21.22 {ECO:0000250|UniProtKB:P00740}; AltName: Full=Christmas factor; Contains: RecName: Full=Coagulation factor IXa light chain; Contains: RecName: Full=Coagulation factor IXa heavy chain; Flags: Precursor;\n"
     ]
    }
   ],
   "source": [
    "print(record.description)"
   ]
  },
  {
   "cell_type": "code",
   "execution_count": 15,
   "metadata": {
    "collapsed": false,
    "jupyter": {
     "outputs_hidden": false
    }
   },
   "outputs": [
    {
     "name": "stdout",
     "output_type": "stream",
     "text": [
      "authors: Axelrod J.H., Read M.S., Brinkhous K.M., Verma I.M.\n",
      "title: Phenotypic correction of factor IX deficiency in skin fibroblasts of hemophilic dogs.\n",
      "authors: Evans J.P., Watzke H.H., Ware J.L., Stafford D.W., High K.A.\n",
      "title: Molecular cloning of a cDNA encoding canine factor IX.\n",
      "authors: Evans J.P., Brinkhous K.M., Brayer G.D., Reisner H.M., High K.A.\n",
      "title: Canine hemophilia B resulting from a point mutation with unusual consequences.\n"
     ]
    }
   ],
   "source": [
    "for ref in record.references:\n",
    "    print(\"authors:\", ref.authors)\n",
    "    print(\"title:\", ref.title)"
   ]
  },
  {
   "cell_type": "code",
   "execution_count": 16,
   "metadata": {
    "collapsed": false,
    "jupyter": {
     "outputs_hidden": false
    }
   },
   "outputs": [
    {
     "name": "stdout",
     "output_type": "stream",
     "text": [
      "['Eukaryota', 'Metazoa', 'Chordata', 'Craniata', 'Vertebrata', 'Euteleostomi', 'Mammalia', 'Eutheria', 'Laurasiatheria', 'Carnivora', 'Caniformia', 'Canidae', 'Canis']\n"
     ]
    }
   ],
   "source": [
    "print(record.organism_classification)"
   ]
  },
  {
   "cell_type": "markdown",
   "metadata": {},
   "source": [
    "\n",
    "However, uncompressing a large file takes time, and each time you open\n",
    "the file for reading in this way, it has to be decompressed on the fly.\n",
    "So, if you can spare the disk space you’ll save time in the long run if\n",
    "you first decompress the file to disk, to get the `uniprot_sprot.dat`\n",
    "file inside. Then you can open the file for reading as usual:\n",
    "\n"
   ]
  },
  {
   "cell_type": "markdown",
   "metadata": {},
   "source": [
    "\n",
    "As of June 2009, the full Swiss-Prot database downloaded from ExPASy\n",
    "contained 468851 Swiss-Prot records. One concise way to build up a list\n",
    "of the record descriptions is with a list comprehension:\n",
    "\n"
   ]
  },
  {
   "cell_type": "markdown",
   "metadata": {},
   "source": [
    "\n",
    "Or, using a for loop over the record iterator:\n",
    "\n"
   ]
  },
  {
   "cell_type": "code",
   "execution_count": null,
   "metadata": {},
   "outputs": [],
   "source": []
  },
  {
   "cell_type": "code",
   "execution_count": 17,
   "metadata": {
    "collapsed": false,
    "jupyter": {
     "outputs_hidden": false
    }
   },
   "outputs": [
    {
     "data": {
      "text/plain": [
       "['__class__',\n",
       " '__delattr__',\n",
       " '__dict__',\n",
       " '__dir__',\n",
       " '__doc__',\n",
       " '__eq__',\n",
       " '__format__',\n",
       " '__ge__',\n",
       " '__getattribute__',\n",
       " '__gt__',\n",
       " '__hash__',\n",
       " '__init__',\n",
       " '__init_subclass__',\n",
       " '__le__',\n",
       " '__lt__',\n",
       " '__module__',\n",
       " '__ne__',\n",
       " '__new__',\n",
       " '__reduce__',\n",
       " '__reduce_ex__',\n",
       " '__repr__',\n",
       " '__setattr__',\n",
       " '__sizeof__',\n",
       " '__str__',\n",
       " '__subclasshook__',\n",
       " '__weakref__',\n",
       " 'accessions',\n",
       " 'annotation_update',\n",
       " 'comments',\n",
       " 'created',\n",
       " 'cross_references',\n",
       " 'data_class',\n",
       " 'description',\n",
       " 'entry_name',\n",
       " 'features',\n",
       " 'gene_name',\n",
       " 'host_organism',\n",
       " 'host_taxonomy_id',\n",
       " 'keywords',\n",
       " 'molecule_type',\n",
       " 'organelle',\n",
       " 'organism',\n",
       " 'organism_classification',\n",
       " 'protein_existence',\n",
       " 'references',\n",
       " 'seqinfo',\n",
       " 'sequence',\n",
       " 'sequence_length',\n",
       " 'sequence_update',\n",
       " 'taxonomy_id']"
      ]
     },
     "execution_count": 17,
     "metadata": {},
     "output_type": "execute_result"
    }
   ],
   "source": [
    "dir(record)"
   ]
  },
  {
   "cell_type": "markdown",
   "metadata": {},
   "source": [
    "\n",
    "### Parsing the Swiss-Prot keyword and category list\n",
    "\n",
    "Swiss-Prot also distributes a file `keywlist.txt`, which lists the\n",
    "keywords and categories used in Swiss-Prot. The file contains entries in\n",
    "the following form:\n",
    "\n"
   ]
  },
  {
   "cell_type": "markdown",
   "metadata": {},
   "source": [
    "```\n",
    "ID   2Fe-2S.\n",
    "AC   KW-0001\n",
    "DE   Protein which contains at least one 2Fe-2S iron-sulfur cluster: 2 iron\n",
    "DE   atoms complexed to 2 inorganic sulfides and 4 sulfur atoms of\n",
    "DE   cysteines from the protein.\n",
    "SY   Fe2S2; [2Fe-2S] cluster; [Fe2S2] cluster; Fe2/S2 (inorganic) cluster;\n",
    "SY   Di-mu-sulfido-diiron; 2 iron, 2 sulfur cluster binding.\n",
    "GO   GO:0051537; 2 iron, 2 sulfur cluster binding\n",
    "HI   Ligand: Iron; Iron-sulfur; 2Fe-2S.\n",
    "HI   Ligand: Metal-binding; 2Fe-2S.\n",
    "CA   Ligand.\n",
    "//\n",
    "ID   3D-structure.\n",
    "AC   KW-0002\n",
    "DE   Protein, or part of a protein, whose three-dimensional structure has\n",
    "DE   been resolved experimentally (for example by X-ray crystallography or\n",
    "DE   NMR spectroscopy) and whose coordinates are available in the PDB\n",
    "DE   database. Can also be used for theoretical models.\n",
    "HI   Technical term: 3D-structure.\n",
    "CA   Technical term.\n",
    "//\n",
    "ID   3Fe-4S.\n",
    "...\n",
    "\n",
    "```"
   ]
  },
  {
   "cell_type": "markdown",
   "metadata": {},
   "source": [
    "\n",
    "The entries in this file can be parsed by the `parse` function in the\n",
    "`Bio.SwissProt.KeyWList` module. Each entry is then stored as a\n",
    "`Bio.SwissProt.KeyWList.Record`, which is a Python dictionary.\n",
    "\n"
   ]
  },
  {
   "cell_type": "code",
   "execution_count": 18,
   "metadata": {
    "collapsed": false,
    "jupyter": {
     "outputs_hidden": false
    }
   },
   "outputs": [],
   "source": [
    "from Bio.SwissProt import KeyWList\n",
    "records = KeyWList.parse(handle)\n",
    "for record in records:\n",
    "    print(record['ID'])\n",
    "    print(record['DE'])"
   ]
  },
  {
   "cell_type": "markdown",
   "metadata": {},
   "source": [
    "\n",
    "This prints\n",
    "\n"
   ]
  },
  {
   "cell_type": "markdown",
   "metadata": {},
   "source": [
    "```\n",
    "2Fe-2S.\n",
    "Protein which contains at least one 2Fe-2S iron-sulfur cluster: 2 iron atoms\n",
    "complexed to 2 inorganic sulfides and 4 sulfur atoms of cysteines from the\n",
    "protein.\n",
    "...\n",
    "\n",
    "```"
   ]
  },
  {
   "cell_type": "markdown",
   "metadata": {},
   "source": [
    "\n",
    "Parsing Prosite records\n",
    "-----------------------\n",
    "\n",
    "Prosite is a database containing protein domains, protein families,\n",
    "functional sites, as well as the patterns and profiles to recognize\n",
    "them. Prosite was developed in parallel with Swiss-Prot. In Biopython, a\n",
    "Prosite record is represented by the `Bio.ExPASy.Prosite.Record` class,\n",
    "whose members correspond to the different fields in a Prosite record.\n",
    "\n",
    "In general, a Prosite file can contain more than one Prosite records.\n",
    "For example, the full set of Prosite records, which can be downloaded as\n",
    "a single file (`prosite.dat`) from the [ExPASy FTP\n",
    "site](ftp://ftp.expasy.org/databases/prosite/prosite.dat), contains 2073\n",
    "records (version 20.24 released on 4 December 2007). To parse such a\n",
    "file, we again make use of an iterator:\n",
    "\n"
   ]
  },
  {
   "cell_type": "markdown",
   "metadata": {},
   "source": [
    "\n",
    "Accessing the ExPASy server\n",
    "---------------------------\n",
    "\n",
    "Swiss-Prot, Prosite, and Prosite documentation records can be downloaded\n",
    "from the ExPASy web server at <http://www.expasy.org>. Six kinds of\n",
    "queries are available from ExPASy:\n",
    "\n",
    "get\\_prodoc\\_entry\n",
    "\n",
    ":   To download a Prosite documentation record in HTML format\n",
    "\n",
    "get\\_prosite\\_entry\n",
    "\n",
    ":   To download a Prosite record in HTML format\n",
    "\n",
    "get\\_prosite\\_raw\n",
    "\n",
    ":   To download a Prosite or Prosite documentation record in raw format\n",
    "\n",
    "get\\_sprot\\_raw\n",
    "\n",
    ":   To download a Swiss-Prot record in raw format\n",
    "\n",
    "sprot\\_search\\_ful\n",
    "\n",
    ":   To search for a Swiss-Prot record\n",
    "\n",
    "sprot\\_search\\_de\n",
    "\n",
    ":   To search for a Swiss-Prot record\n",
    "\n",
    "To access this web server from a Python script, we use the `Bio.ExPASy`\n",
    "module.\n",
    "\n",
    "### Retrieving a Swiss-Prot record {#subsec:expasy_swissprot}\n",
    "\n",
    "Let’s say we are looking at chalcone synthases for Orchids (see\n",
    "section \\[sec:orchids\\] for some justification for looking for\n",
    "interesting things about orchids). Chalcone synthase is involved in\n",
    "flavanoid biosynthesis in plants, and flavanoids make lots of cool\n",
    "things like pigment colors and UV protectants.\n",
    "\n",
    "If you do a search on Swiss-Prot, you can find three orchid proteins for\n",
    "Chalcone Synthase, id numbers O23729, O23730, O23731. Now, let’s write a\n",
    "script which grabs these, and parses out some interesting information.\n",
    "\n",
    "First, we grab the records, using the `get_sprot_raw()` function of\n",
    "`Bio.ExPASy`. This function is very nice since you can feed it an id and\n",
    "get back a handle to a raw text record (no HTML to mess with!). We can\n",
    "the use `Bio.SwissProt.read` to pull out the Swiss-Prot record, or\n",
    "`Bio.SeqIO.read` to get a SeqRecord. The following code accomplishes\n",
    "what I just wrote:\n",
    "\n"
   ]
  },
  {
   "cell_type": "code",
   "execution_count": 19,
   "metadata": {
    "tags": []
   },
   "outputs": [],
   "source": [
    "from Bio import ExPASy\n",
    "from Bio import SwissProt"
   ]
  },
  {
   "cell_type": "code",
   "execution_count": 20,
   "metadata": {
    "tags": []
   },
   "outputs": [],
   "source": [
    "accessions = [\"O23729\", \"O23730\", \"O23731\"]\n",
    "records = []"
   ]
  },
  {
   "cell_type": "code",
   "execution_count": 22,
   "metadata": {
    "collapsed": false,
    "jupyter": {
     "outputs_hidden": false
    }
   },
   "outputs": [],
   "source": [
    "for accession in accessions:\n",
    "    handle = ExPASy.get_sprot_raw(accession)\n",
    "    record = SwissProt.read(handle)\n",
    "    records.append(record)"
   ]
  },
  {
   "cell_type": "markdown",
   "metadata": {},
   "source": [
    "\n",
    "If the accession number you provided to `ExPASy.get_sprot_raw` does not\n",
    "exist, then `SwissProt.read(handle)` will raise a `ValueError`. You can\n",
    "catch `ValueException` exceptions to detect invalid accession numbers:\n",
    "\n"
   ]
  },
  {
   "cell_type": "code",
   "execution_count": 23,
   "metadata": {
    "collapsed": false,
    "jupyter": {
     "outputs_hidden": false
    }
   },
   "outputs": [],
   "source": [
    "for accession in accessions:\n",
    "    handle = ExPASy.get_sprot_raw(accession)\n",
    "    try:\n",
    "        record = SwissProt.read(handle)\n",
    "    except ValueException:\n",
    "        print(\"WARNING: Accession %s not found\" % accession)\n",
    "    records.append(record)"
   ]
  },
  {
   "cell_type": "markdown",
   "metadata": {},
   "source": [
    "\n",
    "### Searching Swiss-Prot\n",
    "\n",
    "Now, you may remark that I knew the records’ accession numbers\n",
    "beforehand. Indeed, `get_sprot_raw()` needs either the entry name or an\n",
    "accession number. When you don’t have them handy, you can use one of the\n",
    "`sprot_search_de()` or `sprot_search_ful()` functions.\n",
    "\n",
    "`sprot_search_de()` searches in the ID, DE, GN, OS and OG lines;\n",
    "`sprot_search_ful()` searches in (nearly) all the fields. They are\n",
    "detailed on <http://www.expasy.org/cgi-bin/sprot-search-de> and\n",
    "<http://www.expasy.org/cgi-bin/sprot-search-ful> respectively. Note that\n",
    "they don’t search in TrEMBL by default (argument `trembl`). Note also\n",
    "that they return HTML pages; however, accession numbers are quite easily\n",
    "extractable:\n",
    "\n"
   ]
  },
  {
   "cell_type": "markdown",
   "metadata": {},
   "source": [
    "\n",
    "For non-existing accession numbers, `ExPASy.get_prosite_raw` returns a\n",
    "handle to an emptry string. When faced with an empty string,\n",
    "`Prosite.read` and `Prodoc.read` will raise a ValueError. You can catch\n",
    "these exceptions to detect invalid accession numbers.\n",
    "\n",
    "The functions `get_prosite_entry()` and `get_prodoc_entry()` are used to\n",
    "download Prosite and Prosite documentation records in HTML format. To\n",
    "create a web page showing one Prosite record, you can use\n",
    "\n"
   ]
  },
  {
   "cell_type": "code",
   "execution_count": null,
   "metadata": {},
   "outputs": [],
   "source": []
  }
 ],
 "metadata": {
  "kernelspec": {
   "display_name": "Python 3 (ipykernel)",
   "language": "python",
   "name": "python3"
  },
  "language_info": {
   "codemirror_mode": {
    "name": "ipython",
    "version": 3
   },
   "file_extension": ".py",
   "mimetype": "text/x-python",
   "name": "python",
   "nbconvert_exporter": "python",
   "pygments_lexer": "ipython3",
   "version": "3.9.10"
  }
 },
 "nbformat": 4,
 "nbformat_minor": 4
}
